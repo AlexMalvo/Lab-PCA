{
 "cells": [
  {
   "metadata": {},
   "cell_type": "markdown",
   "source": [
    "# Ошибка восстановления данных (MSE)\n",
    "---\n",
    "При снижении размерности часть информации теряется. Можно попытаться восстановить данные из проекции на $k$ компонент (обратно преобразовать в исходное пространство) и сравнить с оригиналом. Разница между оригинальными и восстановленными данными характеризует потери. В качестве меры возьмём среднеквадратическую ошибку восстановления (Mean Squared Error):\n",
    "\n",
    "$$\n",
    "\\mathrm{MSE} \\;=\\; \\frac{1}{n \\cdot m} \\sum_{i=1}^{n} \\sum_{j=1}^{m} \\bigl(X^{\\mathrm{orig}}_{i j} - X^{\\mathrm{recon}}_{i j}\\bigr)^{2},\n",
    "$$\n",
    "\n",
    "где $X^{\\text{orig}}$ – исходные данные, $X^{\\text{recon}}$ – восстановленные. Множитель $1/(n\\cdot m)$ усредняет ошибку по всем элементам. \\\n",
    "\\\n",
    "Восстановить данные можно так: если $X_{\\text{proj}} = X_{\\text{centered}} W$, то $X_{\\text{recon, centered}} \\approx X_{\\text{proj}} W^T$. Затем добавляем средние значения (то есть прибавляем обратно в каждый столбец среднее исходного $X$). В рамках лабораторной функции мы предполагаем, что нам уже передан $X_{\\text{recon}}$ и вычислим MSE.\n",
    "\n",
    "---"
   ],
   "id": "bceaca90f9afab77"
  },
  {
   "cell_type": "code",
   "id": "initial_id",
   "metadata": {
    "collapsed": true,
    "ExecuteTime": {
     "end_time": "2025-04-23T10:09:44.764019Z",
     "start_time": "2025-04-23T10:09:44.739121Z"
    }
   },
   "source": [
    "def reconstruction_error(X_orig: 'Matrix', X_recon: 'Matrix') -> float:\n",
    "    n, m = X_orig.rows, X_orig.cols\n",
    "    if X_recon.rows != n or X_recon.cols != m:\n",
    "        raise ValueError(\"Размерности X_orig и X_recon должны совпадать\")\n",
    "    if n == 0 or m == 0:\n",
    "        return 0.0\n",
    "    total_error = 0.0\n",
    "    for i in range(n):\n",
    "        for j in range(m):\n",
    "            diff = X_orig.data[i][j] - X_recon.data[i][j]\n",
    "            total_error += diff * diff\n",
    "    return total_error / (n * m)"
   ],
   "outputs": [],
   "execution_count": 1
  },
  {
   "metadata": {},
   "cell_type": "markdown",
   "source": [
    "Низкое значение MSE говорит о том, что восстановление близко к оригиналу (то есть выбранных главных компонент достаточно для описания данных), высокое – что потеряна значительная часть вариации. В идеале, если взять $k=m$, восстановление будет точным (MSE = 0). Чем меньше $k$, тем больше ошибка.\n",
    "\n",
    "---"
   ],
   "id": "a74caa443ef6696f"
  }
 ],
 "metadata": {
  "kernelspec": {
   "display_name": "Python 3",
   "language": "python",
   "name": "python3"
  },
  "language_info": {
   "codemirror_mode": {
    "name": "ipython",
    "version": 2
   },
   "file_extension": ".py",
   "mimetype": "text/x-python",
   "name": "python",
   "nbconvert_exporter": "python",
   "pygments_lexer": "ipython2",
   "version": "2.7.6"
  }
 },
 "nbformat": 4,
 "nbformat_minor": 5
}
