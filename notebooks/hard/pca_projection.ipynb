{
 "cells": [
  {
   "metadata": {},
   "cell_type": "markdown",
   "source": [
    "# Визуализация проекции на 2 главные компоненты\n",
    "---\n",
    "Проецируя высокомерные данные на плоскость первых двух главных компонент, можно визуально оценить, есть ли кластеры, как объекты распределены по главным направлениям. Часто 2D-проекция дает интуитивное представление о данных, хотя и теряет часть информации. Для визуализации напишем функцию plot_pca_projection(X_proj) – она предполагает, что $X_{\\text{proj}}$ имеет 2 столбца (первая и вторая главные компоненты для каждого объекта). Функция должна построить диаграмму рассеяния (scatter-plot) – точки на плоскости $(\\text{PC1}, \\text{PC2})$.\n",
    "\n",
    "---"
   ],
   "id": "4acc4c0c15d9d0a3"
  },
  {
   "cell_type": "code",
   "id": "initial_id",
   "metadata": {
    "collapsed": true,
    "ExecuteTime": {
     "end_time": "2025-04-23T10:33:05.096107Z",
     "start_time": "2025-04-23T10:33:05.089875Z"
    }
   },
   "source": [
    "import matplotlib.pyplot as plt\n",
    "from matplotlib.figure import Figure\n",
    "from src.pca import pca"
   ],
   "outputs": [],
   "execution_count": 4
  },
  {
   "metadata": {
    "ExecuteTime": {
     "end_time": "2025-04-23T10:33:07.195823Z",
     "start_time": "2025-04-23T10:33:07.185752Z"
    }
   },
   "cell_type": "code",
   "source": [
    "def plot_pca_projection(X_proj: 'Matrix') -> Figure:\n",
    "    \"\"\"\n",
    "    Вход: проекция данных X_proj (n×2) – двумерное представление данных\n",
    "    Выход: объект Figure с графиком рассеяния точек в новом пространстве\n",
    "    \"\"\"\n",
    "    if X_proj.cols != 2:\n",
    "        raise ValueError(\"Для визуализации размерность проекции должна быть 2\")\n",
    "\n",
    "    x_coords = [X_proj.data[i][0] for i in range(X_proj.rows)]\n",
    "    y_coords = [X_proj.data[i][1] for i in range(X_proj.rows)]\n",
    "    fig = plt.figure(figsize=(6, 5))\n",
    "    ax = fig.add_subplot(1, 1, 1)\n",
    "    ax.scatter(x_coords, y_coords, c='blue', s=10, alpha=0.7)\n",
    "    ax.set_title(\"Проекция данных на 2 главные компоненты\")\n",
    "    ax.set_xlabel(\"Главная компонента 1\")\n",
    "    ax.set_ylabel(\"Главная компонента 2\")\n",
    "    return fig"
   ],
   "id": "841eab903c7a0e31",
   "outputs": [],
   "execution_count": 5
  },
  {
   "metadata": {},
   "cell_type": "markdown",
   "source": [
    "\n",
    "---"
   ],
   "id": "4caedf6e9ab14e4e"
  }
 ],
 "metadata": {
  "kernelspec": {
   "display_name": "Python 3",
   "language": "python",
   "name": "python3"
  },
  "language_info": {
   "codemirror_mode": {
    "name": "ipython",
    "version": 2
   },
   "file_extension": ".py",
   "mimetype": "text/x-python",
   "name": "python",
   "nbconvert_exporter": "python",
   "pygments_lexer": "ipython2",
   "version": "2.7.6"
  }
 },
 "nbformat": 4,
 "nbformat_minor": 5
}
