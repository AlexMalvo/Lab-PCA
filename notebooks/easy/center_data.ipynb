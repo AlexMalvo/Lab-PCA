{
 "cells": [
  {
   "metadata": {},
   "cell_type": "markdown",
   "source": [
    "# Центрирование данных\n",
    "---\n",
    "Для применения PCA необходимо предварительно центрировать данные, то есть вычесть из каждого признака (столбца данных) его среднее значение. Центрирование приводит каждый столбец к среднему 0, что позволяет ковариационной матрице корректно отражать разброс данных. Без центрирования главный компонент может сместиться к смещенным данным. Формально, если $X$ – матрица данных размером $n \\times m$ (где $n$ – число объектов, $m$ – число признаков), то центрирование вычисляется как:\n",
    "\n",
    "$$\n",
    "X_{\\mathrm{centered}} = X - \\mathrm{mean}(X),\n",
    "$$\n",
    "\n",
    "где вычитание производится покоординатно для каждого столбца (из каждого элемента столбца вычитается среднее этого столбца).\n",
    "\n",
    "---"
   ],
   "id": "2cb031abf6db1f74"
  },
  {
   "metadata": {
    "ExecuteTime": {
     "end_time": "2025-04-23T10:12:50.954820Z",
     "start_time": "2025-04-23T10:12:50.942966Z"
    }
   },
   "cell_type": "code",
   "source": "from src.Matrix import Matrix",
   "id": "be71d326a95fa76e",
   "outputs": [],
   "execution_count": 1
  },
  {
   "cell_type": "code",
   "id": "initial_id",
   "metadata": {
    "collapsed": true,
    "ExecuteTime": {
     "end_time": "2025-04-23T10:12:51.502725Z",
     "start_time": "2025-04-23T10:12:51.492933Z"
    }
   },
   "source": [
    "def center_data(X: 'Matrix') -> 'Matrix':\n",
    "    \"\"\"\n",
    "    Вход:\n",
    "    X: матрица данных (n×m)\n",
    "    Выход:\n",
    "    центрированная матрица X_centered (n×m)\n",
    "    \"\"\"\n",
    "    n, m = X.rows, X.cols\n",
    "    # Вычисляем среднее каждого столбца\n",
    "    means = [0.0] * m\n",
    "    for j in range(m):\n",
    "        col_sum = 0.0\n",
    "        for i in range(n):\n",
    "            col_sum += X.data[i][j]\n",
    "        means[j] = col_sum / n\n",
    "    # Формируем новую матрицу, вычитая среднее\n",
    "    X_centered = Matrix((n, m))\n",
    "    for i in range(n):\n",
    "        for j in range(m):\n",
    "            X_centered.data[i][j] = X.data[i][j] - means[j]\n",
    "    return X_centered"
   ],
   "outputs": [],
   "execution_count": 2
  },
  {
   "metadata": {},
   "cell_type": "markdown",
   "source": [
    "После выполнения center_data все столбцы матрицы имеют среднее значение, очень близкое к нулю (с учетом вычислительных погрешностей). Это подготавливает данные к вычислению ковариаций.\n",
    "\n",
    "---"
   ],
   "id": "9531d537acf5e763"
  }
 ],
 "metadata": {
  "kernelspec": {
   "display_name": "Python 3",
   "language": "python",
   "name": "python3"
  },
  "language_info": {
   "codemirror_mode": {
    "name": "ipython",
    "version": 2
   },
   "file_extension": ".py",
   "mimetype": "text/x-python",
   "name": "python",
   "nbconvert_exporter": "python",
   "pygments_lexer": "ipython2",
   "version": "2.7.6"
  }
 },
 "nbformat": 4,
 "nbformat_minor": 5
}
