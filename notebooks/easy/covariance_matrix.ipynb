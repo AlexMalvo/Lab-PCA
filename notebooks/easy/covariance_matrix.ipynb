{
 "cells": [
  {
   "metadata": {},
   "cell_type": "markdown",
   "source": [
    "# Вычисление матрицы ковариаций\n",
    "---\n",
    "Теория: Ковариационная матрица характеризует разброс и взаимосвязь признаков. Каждый элемент ковариационной матрицы $C$ определяется как:\n",
    "\n",
    "$$\n",
    "C_{ij} \\;=\\; \\frac{1}{n - 1} \\sum_{k=1}^{n} X_{k i}\\,X_{k j}\n",
    "$$\n",
    "\n",
    "где $X$ – уже центрированная матрица данных (то есть $X_{ki}$ – значение $i$-го признака $k$-го объекта после вычитания среднего). Здесь $n-1$ используется, если вычисляется выборочная ковариация (несмещенная оценка дисперсии), что обычно и делается при PCA. В матричном виде:\n",
    "\n",
    "$$\n",
    "C \\;=\\; \\frac{1}{n - 1}\\,X^\\mathsf{T}X\n",
    "$$\n",
    "\n",
    "где $X^T$ – транспонированная матрица. Таким образом, $C$ будет $m \\times m$ (для $m$ признаков).\n",
    "\n",
    "---"
   ],
   "id": "d56e14ad80643cbc"
  },
  {
   "metadata": {
    "ExecuteTime": {
     "end_time": "2025-04-23T10:12:39.798511Z",
     "start_time": "2025-04-23T10:12:39.784056Z"
    }
   },
   "cell_type": "code",
   "source": [
    "def covariance_matrix(X_centered: 'Matrix') -> 'Matrix':\n",
    "    \"\"\"\n",
    "    Вход:\n",
    "    X_centered: центрированная матрица данных (n×m)\n",
    "    Выход:\n",
    "    матрица ковариаций C (m×m)\n",
    "    \"\"\"\n",
    "    n, m = X_centered.rows, X_centered.cols\n",
    "    denom = n - 1 if n > 1 else 1  # если одно наблюдение, делитель 1 (хотя случай тривиальный)\n",
    "    # Вычисляем X^T * X\n",
    "    X_T = X_centered.transpose()\n",
    "    C = X_T @ X_centered  # матрица ковариаций до деления\n",
    "    # Делим каждую компоненту на (n-1)\n",
    "    for i in range(C.rows):\n",
    "        for j in range(C.cols):\n",
    "            C.data[i][j] /= denom\n",
    "    return C"
   ],
   "id": "2e16f56a54b7f158",
   "outputs": [],
   "execution_count": 1
  },
  {
   "metadata": {},
   "cell_type": "markdown",
   "source": [
    "Функция возвращает ковариационную матрицу размером $m \\times m$. Ковариационная матрица симметрична, ее диагональные элементы – дисперсии признаков, внедиагональные – ковариации между признаками.\n",
    "\n",
    "---"
   ],
   "id": "25e6ae618fca1e32"
  }
 ],
 "metadata": {
  "kernelspec": {
   "display_name": "Python 3",
   "language": "python",
   "name": "python3"
  },
  "language_info": {
   "codemirror_mode": {
    "name": "ipython",
    "version": 2
   },
   "file_extension": ".py",
   "mimetype": "text/x-python",
   "name": "python",
   "nbconvert_exporter": "python",
   "pygments_lexer": "ipython2",
   "version": "2.7.6"
  }
 },
 "nbformat": 4,
 "nbformat_minor": 5
}
