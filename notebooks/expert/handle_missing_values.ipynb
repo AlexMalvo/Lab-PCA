{
 "cells": [
  {
   "metadata": {},
   "cell_type": "markdown",
   "source": [
    "# Обработка пропущенных значений\n",
    "---\n",
    "В реальных данных могут встречаться пропуски (NaN – Not a Number). PCA не может быть напрямую применен к данным с пропусками, поэтому их нужно заполнить (импьютация). Один из простых подходов – заменить все NaN на среднее значение соответствующего признака (столбца) по остальным наблюдениям. Это сохраняет среднее, хотя может занизить дисперсию по этому признаку.\n",
    "\n",
    "---"
   ],
   "id": "6b2835c6e1104ec4"
  },
  {
   "cell_type": "code",
   "id": "initial_id",
   "metadata": {
    "collapsed": true,
    "ExecuteTime": {
     "end_time": "2025-04-24T20:59:49.884828Z",
     "start_time": "2025-04-24T20:59:49.874674Z"
    }
   },
   "source": [
    "from src.handle_missing_values import handle_missing_values\n",
    "from src.Matrix import Matrix"
   ],
   "outputs": [],
   "execution_count": 1
  },
  {
   "metadata": {
    "ExecuteTime": {
     "end_time": "2025-04-24T21:00:01.198237Z",
     "start_time": "2025-04-24T21:00:01.190846Z"
    }
   },
   "cell_type": "code",
   "source": [
    "# Исходная матрица с NaN (используем float('nan'))\n",
    "X_data = [\n",
    "    [1.0,   float('nan'), 3.0],\n",
    "    [4.0,   5.0,          float('nan')],\n",
    "    [float('nan'), 7.0,   9.0]\n",
    "]\n",
    "X_mat = Matrix(X_data)\n",
    "X_filled = handle_missing_values(X_mat)\n",
    "print(X_filled)"
   ],
   "id": "43c6cc02ca519514",
   "outputs": [
    {
     "name": "stdout",
     "output_type": "stream",
     "text": [
      "Matrix([[1.0, 6.0, 3.0], [4.0, 5.0, 6.0], [2.5, 7.0, 9.0]])\n"
     ]
    }
   ],
   "execution_count": 2
  },
  {
   "metadata": {
    "ExecuteTime": {
     "end_time": "2025-04-24T21:00:37.182691Z",
     "start_time": "2025-04-24T21:00:37.176324Z"
    }
   },
   "cell_type": "code",
   "source": [
    "# 1) Все значения NaN в столбце → заполняются средним (0.0 для пустых)\n",
    "nan = float('nan')\n",
    "X1 = Matrix([[nan, nan], [nan, nan]])\n",
    "res1 = handle_missing_values(X1)\n",
    "print(res1)  # Matrix([[0.0, 0.0], [0.0, 0.0]])"
   ],
   "id": "518c9d370f9d1de6",
   "outputs": [
    {
     "name": "stdout",
     "output_type": "stream",
     "text": [
      "Matrix([[0.0, 0.0], [0.0, 0.0]])\n"
     ]
    }
   ],
   "execution_count": 3
  },
  {
   "metadata": {
    "ExecuteTime": {
     "end_time": "2025-04-24T21:00:49.942983Z",
     "start_time": "2025-04-24T21:00:49.935431Z"
    }
   },
   "cell_type": "code",
   "source": [
    "# 2) Пустая матрица\n",
    "X2 = Matrix((0, 0))\n",
    "res2 = handle_missing_values(X2)\n",
    "print(res2.shape())  # (0, 0)"
   ],
   "id": "e697e6a9b8def015",
   "outputs": [
    {
     "name": "stdout",
     "output_type": "stream",
     "text": [
      "(0, 0)\n"
     ]
    }
   ],
   "execution_count": 4
  },
  {
   "metadata": {},
   "cell_type": "markdown",
   "source": [
    "## Выводы:\n",
    "\n",
    "- Функция адекватно заполняет матрицы с любым расположением NaN.\n",
    "- Пустые матрицы и полностью заполненные корректно обрабатываются.\n",
    "\n",
    "---"
   ],
   "id": "4c277212614eba2e"
  }
 ],
 "metadata": {
  "kernelspec": {
   "display_name": "Python 3",
   "language": "python",
   "name": "python3"
  },
  "language_info": {
   "codemirror_mode": {
    "name": "ipython",
    "version": 2
   },
   "file_extension": ".py",
   "mimetype": "text/x-python",
   "name": "python",
   "nbconvert_exporter": "python",
   "pygments_lexer": "ipython2",
   "version": "2.7.6"
  }
 },
 "nbformat": 4,
 "nbformat_minor": 5
}
