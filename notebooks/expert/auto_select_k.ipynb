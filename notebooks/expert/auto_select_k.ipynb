{
 "cells": [
  {
   "metadata": {},
   "cell_type": "markdown",
   "source": [
    "# Автоматический выбор числа компонент\n",
    "---\n",
    "Часто заранее неизвестно, сколько главных компонент следует оставить. Один из подходов – задать порог по доле объяснённой дисперсии (например, 95% или 99%) и выбрать минимальное $k$, при котором этот порог достигается. Используя уже вычисленные собственные значения, можно последовательно суммировать их до тех пор, пока сумма не достигнет $threshold \\times \\sum_{i=1}^m \\lambda_i$.\n",
    "\n",
    "---"
   ],
   "id": "28d7e3bdb0b04b1f"
  },
  {
   "metadata": {
    "ExecuteTime": {
     "end_time": "2025-04-24T19:00:22.947641Z",
     "start_time": "2025-04-24T19:00:22.942834Z"
    }
   },
   "cell_type": "code",
   "source": [
    "from src.auto_select_k import auto_select_k\n",
    "import pytest"
   ],
   "id": "9bb9b0ad4bdd9440",
   "outputs": [],
   "execution_count": 3
  },
  {
   "metadata": {},
   "cell_type": "markdown",
   "source": [
    "---\n",
    "## Стандартные сценарии выбора `k`\n"
   ],
   "id": "6381c85796be54cc"
  },
  {
   "cell_type": "code",
   "id": "initial_id",
   "metadata": {
    "collapsed": true,
    "ExecuteTime": {
     "end_time": "2025-04-24T19:04:15.054681Z",
     "start_time": "2025-04-24T19:04:15.047077Z"
    }
   },
   "source": [
    "tests = [\n",
    "    # простой убывающий список: порог 0.5 -> минимум 2 компоненты из [5,4,3,2,1] дают (5+4)/(5+4+3+2+1)=9/15=0.6 ≥ 0.5\n",
    "    ([5, 4, 3, 2, 1], 0.5, 2),\n",
    "    # порог 0.9 -> нужно k=3: (5+4+3)/15 = 12/15 = 0.8 <0.9, k=4: 14/15 ≈0.933 ≥0.9\n",
    "    ([5, 4, 3, 2, 1], 0.9, 4),\n",
    "    # равные собственные значения: при любых k порог 0.5 для [1,1,1,1] -> k=2: 2/4 =0.5\n",
    "    ([1, 1, 1, 1], 0.5, 2),\n",
    "    # один элемент\n",
    "    ([10], 0.95, 1),\n",
    "    # пустой список\n",
    "    ([], 0.75, 0),\n",
    "]\n",
    "\n",
    "for evs, thr, expected in tests:\n",
    "    k = auto_select_k(evs, thr)\n",
    "    print(f\"eigenvalues={evs}, threshold={thr} → k={k} (expected {expected})\")\n",
    "    assert k == expected, f\"Expected {expected}, got {k}\""
   ],
   "outputs": [
    {
     "name": "stdout",
     "output_type": "stream",
     "text": [
      "eigenvalues=[5, 4, 3, 2, 1], threshold=0.5 → k=2 (expected 2)\n",
      "eigenvalues=[5, 4, 3, 2, 1], threshold=0.9 → k=4 (expected 4)\n",
      "eigenvalues=[1, 1, 1, 1], threshold=0.5 → k=2 (expected 2)\n",
      "eigenvalues=[10], threshold=0.95 → k=1 (expected 1)\n",
      "eigenvalues=[], threshold=0.75 → k=0 (expected 0)\n"
     ]
    }
   ],
   "execution_count": 8
  },
  {
   "metadata": {},
   "cell_type": "markdown",
   "source": [
    "- **`[5, 4, 3, 2, 1], threshold=0.5 → k=2`**\n",
    "  Сумма собственных значений = 15.\n",
    "  - 1 компонента: 5/15 ≈ 0.33 < 0.5\n",
    "  - 2 компоненты: (5+4)/15 = 9/15 = 0.60 ≥ 0.5\n",
    "  **Вывод:** минимальное `k=2`.\n",
    "\n",
    "- **`[5, 4, 3, 2, 1], threshold=0.9 → k=4`**\n",
    "  - (5+4+3)/15 = 12/15 = 0.80 < 0.9\n",
    "  - (5+4+3+2)/15 = 14/15 ≈ 0.933 ≥ 0.9\n",
    "  **Вывод:** минимальное `k=4`.\n",
    "\n",
    "- **`[1, 1, 1, 1], threshold=0.5 → k=2`**\n",
    "  Все λ одинаковы, суммарная дисперсия = 4.\n",
    "  - 1 компонента: 1/4 = 0.25 < 0.5\n",
    "  - 2 компоненты: 2/4 = 0.50 ≥ 0.5\n",
    "  **Вывод:** минимальное `k=2`.\n",
    "\n",
    "- **`[10], threshold=0.95 → k=1`**\n",
    "  Одна компонента, её вклад = 100% ≥ 95%.\n",
    "  **Вывод:** `k=1`.\n",
    "\n",
    "- **`[], threshold=0.75 → k=0`**\n",
    "  Нет собственных значений → возвращается 0.\n",
    "  **Вывод:** `k=0`.\n",
    "\n",
    "---\n",
    "## Ошибочные пороги\n"
   ],
   "id": "a6f718d1c6cf36eb"
  },
  {
   "metadata": {
    "ExecuteTime": {
     "end_time": "2025-04-24T19:04:59.444260Z",
     "start_time": "2025-04-24T19:04:59.436691Z"
    }
   },
   "cell_type": "code",
   "source": [
    "# тестирование обработка некорректных порогов:\n",
    "invalid_thresholds = [0, -0.1, 1.1]\n",
    "\n",
    "for thr in invalid_thresholds:\n",
    "    try:\n",
    "        auto_select_k([1,2,3], thr)\n",
    "    except ValueError as e:\n",
    "        print(f\"threshold={thr} → ValueError: {e}\")\n",
    "    else:\n",
    "        raise AssertionError(f\"Expected ValueError for threshold={thr}\")"
   ],
   "id": "a68e6acc50014bf9",
   "outputs": [
    {
     "name": "stdout",
     "output_type": "stream",
     "text": [
      "threshold=0 → ValueError: threshold должен быть в диапазоне (0, 1]\n",
      "threshold=-0.1 → ValueError: threshold должен быть в диапазоне (0, 1]\n",
      "threshold=1.1 → ValueError: threshold должен быть в диапазоне (0, 1]\n"
     ]
    }
   ],
   "execution_count": 9
  },
  {
   "metadata": {},
   "cell_type": "markdown",
   "source": [
    "- **`threshold=0` → ValueError**\n",
    "  Порог равен нижней границе диапазона, но допустимым считается только (0, 1].\n",
    "  **Вывод:** вызов `ValueError(\"threshold должен быть в диапазоне (0, 1]\")`.\n",
    "\n",
    "- **`threshold=-0.1` → ValueError**\n",
    "  Отрицательное значение вне допустимого диапазона.\n",
    "  **Вывод:** `ValueError(\"threshold должен быть в диапазоне (0, 1]\")`.\n",
    "\n",
    "- **`threshold=1.1` → ValueError**\n",
    "  Значение превышает 1, выходит за верхнюю границу диапазона.\n",
    "  **Вывод:** `ValueError(\"threshold должен быть в диапазоне (0, 1]\")`.\n",
    "\n",
    "---\n",
    "## Порог ровно 1.0"
   ],
   "id": "712800e5ee1dc3c3"
  },
  {
   "metadata": {
    "ExecuteTime": {
     "end_time": "2025-04-24T19:05:28.394449Z",
     "start_time": "2025-04-24T19:05:28.387367Z"
    }
   },
   "cell_type": "code",
   "source": [
    "# тест с порогом = 1 и большим списком\n",
    "evs = [0.2, 0.1, 0.05, 0.025]\n",
    "k_full = auto_select_k(evs, 1.0)\n",
    "print(f\"threshold=1.0 → k={k_full} (должно быть 4)\")\n",
    "assert k_full == len(evs)"
   ],
   "id": "5e8addb4ba2a5cd1",
   "outputs": [
    {
     "name": "stdout",
     "output_type": "stream",
     "text": [
      "threshold=1.0 → k=4 (должно быть 4)\n"
     ]
    }
   ],
   "execution_count": 10
  },
  {
   "metadata": {},
   "cell_type": "markdown",
   "source": [
    "- **`[0.2, 0.1, 0.05, 0.025], threshold=1.0 → k=4`**\n",
    "  Сумма собственных значений = 0.2 + 0.1 + 0.05 + 0.025 = 0.375.\n",
    "  - Чтобы охватить 100 % дисперсии, нужно собрать сумму всех компонент:\n",
    "    \\(\\frac{0.2 + 0.1 + 0.05 + 0.025}{0.375} = 1.0\\).\n",
    "  **Вывод:** минимальное `k=4`, то есть равное полному числу собственных значений.\n",
    "\n",
    "---\n",
    "\n",
    "## Выводы\n",
    "\n",
    "- Функция `auto_select_k` корректно находит **минимальное** число компонент `k`, обеспечивающее заданный порог объяснённой дисперсии:\n",
    "  для каждого тестового набора собственных значений были выбраны именно те `k`, при которых накопленная доля ≥ threshold.\n",
    "\n",
    "- При **пустом списке** собственных значений возвращается `k = 0`, что логично: нет компонент для отбора.\n",
    "\n",
    "- Для **порога = 1.0** функция возвращает **полное** число компонент, обеспечивая 100 % объяснённой дисперсии.\n",
    "\n",
    "- **Неправильные пороги** (≤ 0 или > 1) надёжно отбрасываются с выбрасыванием `ValueError(\"threshold должен быть в диапазоне (0, 1]\")`.\n",
    "\n",
    "---"
   ],
   "id": "9c9d17937b290b5b"
  }
 ],
 "metadata": {
  "kernelspec": {
   "display_name": "Python 3",
   "language": "python",
   "name": "python3"
  },
  "language_info": {
   "codemirror_mode": {
    "name": "ipython",
    "version": 2
   },
   "file_extension": ".py",
   "mimetype": "text/x-python",
   "name": "python",
   "nbconvert_exporter": "python",
   "pygments_lexer": "ipython2",
   "version": "2.7.6"
  }
 },
 "nbformat": 4,
 "nbformat_minor": 5
}
