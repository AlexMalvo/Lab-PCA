{
 "cells": [
  {
   "metadata": {},
   "cell_type": "markdown",
   "source": [
    "# Нахождение собственных значений (метод степенной итерации с дефляцией)\n",
    "---\n",
    "Собственные значения матрицы $C$ можно найти не только через решение уравнения $\\det(C - \\lambda I) = 0$, но и с помощью итеративных численных методов. В частности, **метод степенной итерации** (power iteration) позволяет найти наибольшее по модулю собственное значение и соответствующий ему собственный вектор. А затем, применяя **дефляцию**, можно последовательно «откалывать» уже найденные собственные пары и получать оставшиеся значения.\n",
    "\n",
    "### Идея метода степенной итерации\n",
    "\n",
    "1. **Инициализация**\n",
    "   Задаём случайный вектор $b^{(0)} \\in \\mathbb{R}^n$ (не равный нулю) и нормируем его:\n",
    "   $$\n",
    "     b^{(0)} \\leftarrow \\frac{b^{(0)}}{\\|b^{(0)}\\|}.\n",
    "   $$\n",
    "\n",
    "2. **Итерации**\n",
    "   На каждом шаге вычисляем\n",
    "   $$\n",
    "     y = A\\,b^{(k)},\\quad\n",
    "     b^{(k+1)} = \\frac{y}{\\|y\\|}.\n",
    "   $$\n",
    "   Обновлённый вектор $b^{(k+1)}$ стремится к собственному вектору, соответствующему наибольшему по модулю собственному значению.\n",
    "\n",
    "3. **Оценка собственного значения**\n",
    "   Используем **кратное отношение Релея** (Rayleigh quotient):\n",
    "   $$\n",
    "     \\lambda^{(k+1)}\n",
    "       = \\frac{(b^{(k+1)})^\\top A\\, b^{(k+1)}}{(b^{(k+1)})^\\top b^{(k+1)}}\n",
    "       = (b^{(k+1)})^\\top A\\, b^{(k+1)},\n",
    "   $$\n",
    "   и проверяем условие сходимости\n",
    "   $$\n",
    "     \\bigl|\\lambda^{(k+1)} - \\lambda^{(k)}\\bigr| < \\text{tol}.\n",
    "   $$\n",
    "\n",
    "### Дефляция\n",
    "\n",
    "После того как найдено собственное значение $\\lambda$ и соответствующий ему нормированный вектор $b$, модифицируем матрицу:\n",
    "$$\n",
    "  A \\leftarrow A - \\lambda\\,b\\,b^\\top.\n",
    "$$\n",
    "Это «вычёркивает» найденную компоненту из спектра матрицы. Повторяя процедуру на обновлённой $A$, мы последовательно извлекаем все $n$ собственных значений.\n",
    "\n",
    "---\n",
    "\n",
    "### Особенности реализации\n",
    "\n",
    "- **Сходимость** метода степенной итерации гарантируется для матриц, у которых одно собственное значение строго превосходит все остальные по модулю.\n",
    "- **Дефляция** сохраняет симметричность $A$, если исходная матрица симметрична, и корректно устраняет найденную компоненту.\n",
    "- **Параметр `tol`** определяет требуемую точность для собственного значения.\n",
    "- **Ограничение числа итераций** (1000) предотвращает бесконечные циклы на плохо обусловленных матрицах.\n",
    "- При кратных собственных значениях алгоритм может несколько раз сходиться к одному и тому же значению с небольшой разницей — при необходимости стоит объединять близкие оценки.\n",
    "\n",
    "---"
   ],
   "id": "efb3a749f4b66295"
  },
  {
   "metadata": {
    "ExecuteTime": {
     "end_time": "2025-04-24T21:07:23.155329Z",
     "start_time": "2025-04-24T21:07:23.148867Z"
    }
   },
   "cell_type": "code",
   "source": [
    "from src.Matrix import Matrix\n",
    "from typing import List\n",
    "import math\n",
    "import random"
   ],
   "id": "b5ca500cd8c14392",
   "outputs": [],
   "execution_count": 2
  },
  {
   "cell_type": "code",
   "id": "initial_id",
   "metadata": {
    "collapsed": true,
    "ExecuteTime": {
     "end_time": "2025-04-24T21:07:24.995660Z",
     "start_time": "2025-04-24T21:07:24.982415Z"
    }
   },
   "source": [
    "def find_eigenvalues(C: 'Matrix', tol: float = 1e-6) -> List[float]:\n",
    "    \"\"\"\n",
    "    Находит все собственные значения матрицы C методом power iteration с дефляцией.\n",
    "    Возвращает список собственных значений, упорядоченных по убыванию.\n",
    "    \"\"\"\n",
    "    n = C.rows\n",
    "    A = [[C.data[i][j] for j in range(n)] for i in range(n)]\n",
    "    eigenvalues: List[float] = []\n",
    "    for _ in range(n):\n",
    "        b = [random.random() for _ in range(n)]\n",
    "        norm_b = math.sqrt(sum(x*x for x in b)) or 1.0\n",
    "        b = [x / norm_b for x in b]\n",
    "        lambda_old = 0.0\n",
    "        for _ in range(1000):\n",
    "            Ab = [sum(A[i][j] * b[j] for j in range(n)) for i in range(n)]\n",
    "            norm_ab = math.sqrt(sum(x*x for x in Ab)) or 1.0\n",
    "            b = [x / norm_ab for x in Ab]\n",
    "            # Rayleigh quotient\n",
    "            lambda_new = sum(b[i] * sum(A[i][j] * b[j] for j in range(n)) for i in range(n))\n",
    "            if abs(lambda_new - lambda_old) < tol:\n",
    "                break\n",
    "            lambda_old = lambda_new\n",
    "        eigenvalues.append(lambda_new)\n",
    "        for i in range(n):\n",
    "            for j in range(n):\n",
    "                A[i][j] -= lambda_new * b[i] * b[j]\n",
    "    return eigenvalues"
   ],
   "outputs": [],
   "execution_count": 3
  },
  {
   "metadata": {},
   "cell_type": "markdown",
   "source": [
    "\n",
    "---"
   ],
   "id": "52776e2b1395d77e"
  }
 ],
 "metadata": {
  "kernelspec": {
   "display_name": "Python 3",
   "language": "python",
   "name": "python3"
  },
  "language_info": {
   "codemirror_mode": {
    "name": "ipython",
    "version": 2
   },
   "file_extension": ".py",
   "mimetype": "text/x-python",
   "name": "python",
   "nbconvert_exporter": "python",
   "pygments_lexer": "ipython2",
   "version": "2.7.6"
  }
 },
 "nbformat": 4,
 "nbformat_minor": 5
}
