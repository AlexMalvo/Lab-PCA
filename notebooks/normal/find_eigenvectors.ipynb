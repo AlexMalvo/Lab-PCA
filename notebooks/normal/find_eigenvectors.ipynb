{
 "cells": [
  {
   "metadata": {},
   "cell_type": "markdown",
   "source": [
    "# Нахождение собственных векторов (метод степенной итерации с дефляцией)\n",
    "---\n",
    "Функция `find_eigenvectors(C, eigenvalues)` извлекает из симметричной матрицы $C\\in\\mathbb{R}^{n\\times n}$ собственные векторы, используя уже найденные собственные значения для управления числом итераций.\n",
    "\n",
    "---\n",
    "\n",
    "### Описание алгоритма\n",
    "\n",
    "1. **Копирование данных**\n",
    "   Копируем $C$ в двумерный список $A$:\n",
    "   $$\n",
    "     A_{ij} = C_{ij},\\quad i,j=1\\ldots n.\n",
    "   $$\n",
    "\n",
    "2. **Параметры итераций**\n",
    "   Устанавливаем допуск и максимальное число итераций:\n",
    "   $$\n",
    "     \\mathrm{tol} = 10^{-6},\\quad \\mathrm{max\\_iter} = 1000.\n",
    "   $$\n",
    "\n",
    "3. **Цикл по списку `eigenvalues`**\n",
    "   Для каждого значения $\\lambda$ из `eigenvalues` (или просто $n$ раз):\n",
    "\n",
    "   1. **Инициализация вектора**\n",
    "      Генерируем случайный вектор $b^{(0)}\\in\\mathbb{R}^n$ и нормируем:\n",
    "      $$\n",
    "        b^{(0)} \\leftarrow \\frac{b^{(0)}}{\\|b^{(0)}\\|}.\n",
    "      $$\n",
    "\n",
    "   2. **Power iteration**\n",
    "      Для $k = 0,1,\\dots$ до сходимости или пока $k<\\mathrm{max\\_iter}$ выполняем:\n",
    "      $$\n",
    "        y = A\\,b^{(k)},\\quad\n",
    "        b^{(k+1)} = \\frac{y}{\\|y\\|}.\n",
    "      $$\n",
    "      Вычисляем новое приближение собственного значения через Rayleigh-отношение:\n",
    "      $$\n",
    "        \\lambda^{(k+1)} = (b^{(k+1)})^\\top A\\,b^{(k+1)}.\n",
    "      $$\n",
    "      Критерий остановки:\n",
    "      $$\n",
    "        \\bigl|\\lambda^{(k+1)} - \\lambda^{(k)}\\bigr| < \\mathrm{tol}.\n",
    "      $$\n",
    "\n",
    "   3. **Сохранение вектора**\n",
    "      После сходимости строим столбец\n",
    "      $$\n",
    "        v = \\begin{pmatrix} b^{(k+1)}_1 \\\\ \\vdots \\\\ b^{(k+1)}_n \\end{pmatrix}\n",
    "      $$\n",
    "      и добавляем его в список `eigenvectors`.\n",
    "\n",
    "   4. **Дефляция**\n",
    "      Убираем найденную компоненту из $A$:\n",
    "      $$\n",
    "        A \\leftarrow A - \\lambda^{(k+1)}\\,b^{(k+1)}\\,(b^{(k+1)})^\\top.\n",
    "      $$\n",
    "\n",
    "4. **Возврат результата**\n",
    "   Возвращаем список `eigenvectors`.\n",
    "\n",
    "---\n",
    "\n",
    "### Особенности реализации\n",
    "\n",
    "- Метод сходится к собственному вектору, соответствующему наибольшему по модулю собственному значению оставшейся матрицы.\n",
    "- Дефляция обеспечивает извлечение следующих по величине собственных векторов.\n",
    "- Критерий по допуску $\\mathrm{tol}$ гарантирует требуемую точность.\n",
    "- Ограничение в $\\mathrm{max\\_iter}=1000$ предотвращает зацикливание на плохо обусловленных матрицах.\n",
    "\n",
    "\n",
    "---"
   ],
   "id": "de5fc17d4333a980"
  },
  {
   "metadata": {
    "ExecuteTime": {
     "end_time": "2025-04-24T21:14:42.140552Z",
     "start_time": "2025-04-24T21:14:42.128781Z"
    }
   },
   "cell_type": "code",
   "source": [
    "from src.Matrix import Matrix\n",
    "from typing import List\n",
    "import random\n",
    "import math"
   ],
   "id": "33b8b04baf0a989",
   "outputs": [],
   "execution_count": 1
  },
  {
   "metadata": {
    "ExecuteTime": {
     "end_time": "2025-04-24T21:14:42.933882Z",
     "start_time": "2025-04-24T21:14:42.918870Z"
    }
   },
   "cell_type": "code",
   "source": [
    "def find_eigenvectors(C: Matrix, eigenvalues: List[float]) -> List[Matrix]:\n",
    "    \"\"\"\n",
    "    Вход:\n",
    "      C: матрица ковариаций (n×n)\n",
    "      eigenvalues: список собственных значений\n",
    "    Выход:\n",
    "      список собственных векторов (каждый — Matrix-столбец)\n",
    "    \"\"\"\n",
    "    n = C.rows\n",
    "    # Копируем данные в обычный список для дефляции\n",
    "    A = [[C.data[i][j] for j in range(n)] for i in range(n)]\n",
    "    eigenvectors: List[Matrix] = []\n",
    "    tol = 1e-6  # допуск для остановки power iteration\n",
    "\n",
    "    for _ in eigenvalues:\n",
    "        # Случайный стартовый вектор\n",
    "        b = [random.random() for _ in range(n)]\n",
    "        norm_b = math.sqrt(sum(x*x for x in b)) or 1.0\n",
    "        b = [x / norm_b for x in b]\n",
    "\n",
    "        lambda_old = 0.0\n",
    "        # Power iteration\n",
    "        for _ in range(1000):\n",
    "            # умножаем A на b\n",
    "            Ab = [sum(A[i][j] * b[j] for j in range(n)) for i in range(n)]\n",
    "            norm_ab = math.sqrt(sum(x*x for x in Ab)) or 1.0\n",
    "            b = [x / norm_ab for x in Ab]\n",
    "            lambda_new = sum(b[i] * Ab[i] for i in range(n))\n",
    "            if abs(lambda_new - lambda_old) < tol:\n",
    "                break\n",
    "            lambda_old = lambda_new\n",
    "\n",
    "        # cохраняем вектор-столбец в формате Matrix\n",
    "        vec = Matrix([[b[i]] for i in range(n)])\n",
    "        eigenvectors.append(vec)\n",
    "\n",
    "        # дефляция: вычитаем найденное собственное значение из матрицы\n",
    "        for i in range(n):\n",
    "            for j in range(n):\n",
    "                A[i][j] -= lambda_old * b[i] * b[j]\n",
    "\n",
    "    return eigenvectors"
   ],
   "id": "fb16cdc33b5a6763",
   "outputs": [],
   "execution_count": 2
  },
  {
   "metadata": {},
   "cell_type": "markdown",
   "source": [
    "\n",
    "---"
   ],
   "id": "d4edfc0b5341532d"
  }
 ],
 "metadata": {
  "kernelspec": {
   "display_name": "Python 3",
   "language": "python",
   "name": "python3"
  },
  "language_info": {
   "codemirror_mode": {
    "name": "ipython",
    "version": 2
   },
   "file_extension": ".py",
   "mimetype": "text/x-python",
   "name": "python",
   "nbconvert_exporter": "python",
   "pygments_lexer": "ipython2",
   "version": "2.7.6"
  }
 },
 "nbformat": 4,
 "nbformat_minor": 5
}
