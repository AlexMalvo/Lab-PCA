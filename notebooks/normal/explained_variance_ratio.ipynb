{
 "cells": [
  {
   "metadata": {},
   "cell_type": "markdown",
   "source": [
    "# Доля объясненной дисперсии\n",
    "---\n",
    "Собственные значения ковариационной матрицы связаны с дисперсией данных вдоль главных компонент. Если отсортировать собственные значения по убыванию $\\lambda_1 \\ge \\lambda_2 \\ge \\dots \\ge \\lambda_m$, то суммарная дисперсия данных равна $\\sum_{i=1}^{m} \\lambda_i$ (это же равно следу матрицы). Доля объяснённой дисперсии первыми $k$ компонентами определяется как:\n",
    "\n",
    "$$\n",
    "\\gamma \\;=\\; \\frac{\\displaystyle\\sum_{i=1}^{k} \\lambda_{i}}{\\displaystyle\\sum_{i=1}^{m} \\lambda_{i}}.\n",
    "$$\n",
    "\n",
    "Она показывает, какая часть разброса (информации) сохраняется, если мы оставим $k$ главных компонент и отбросим остальные. Обычно выбирают минимальное $k$, при котором $\\gamma$ превышает некоторый порог (например, 95%).\n",
    "\n",
    "---"
   ],
   "id": "f204a41ba1e5f094"
  },
  {
   "metadata": {
    "ExecuteTime": {
     "end_time": "2025-04-20T13:19:12.105067Z",
     "start_time": "2025-04-20T13:19:12.092023Z"
    }
   },
   "cell_type": "code",
   "source": "from typing import List",
   "id": "a20afa7ba351cc35",
   "outputs": [],
   "execution_count": 1
  },
  {
   "cell_type": "code",
   "id": "initial_id",
   "metadata": {
    "collapsed": true,
    "ExecuteTime": {
     "end_time": "2025-04-20T13:19:12.633151Z",
     "start_time": "2025-04-20T13:19:12.624882Z"
    }
   },
   "source": [
    "def explained_variance_ratio(eigenvalues: List[float], k: int) -> float:\n",
    "    \"\"\"\n",
    "    Вход:\n",
    "    eigenvalues: список собственных значений\n",
    "    k: число компонент (первых k собственных значений)\n",
    "    Выход:\n",
    "    доля объяснённой дисперсии (от 0 до 1)\n",
    "    \"\"\"\n",
    "    if not eigenvalues:\n",
    "        return 0.0\n",
    "    # Сортируем по убыванию на случай, если не отсортировано\n",
    "    vals = sorted(eigenvalues, reverse=True)\n",
    "    total = sum(vals)\n",
    "    if total == 0:\n",
    "        return 0.0\n",
    "    explained = sum(vals[:k])\n",
    "    return explained / total"
   ],
   "outputs": [],
   "execution_count": 2
  },
  {
   "metadata": {},
   "cell_type": "markdown",
   "source": [
    "Функция возвращает число от 0 до 1 (или 0, если список пустой). Например, если передать все собственные значения и $k=m$, то доля будет 1 (100% дисперсии объяснено всеми компонентами). Если $k$ мало, доля обычно < 1.\n",
    "\n",
    "---"
   ],
   "id": "298d08b1d5b7461"
  }
 ],
 "metadata": {
  "kernelspec": {
   "display_name": "Python 3",
   "language": "python",
   "name": "python3"
  },
  "language_info": {
   "codemirror_mode": {
    "name": "ipython",
    "version": 2
   },
   "file_extension": ".py",
   "mimetype": "text/x-python",
   "name": "python",
   "nbconvert_exporter": "python",
   "pygments_lexer": "ipython2",
   "version": "2.7.6"
  }
 },
 "nbformat": 4,
 "nbformat_minor": 5
}
